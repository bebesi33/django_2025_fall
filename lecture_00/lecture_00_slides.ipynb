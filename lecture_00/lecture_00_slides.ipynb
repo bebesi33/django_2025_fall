{
 "cells": [
  {
   "cell_type": "markdown",
   "id": "f41c4f1f",
   "metadata": {
    "slideshow": {
     "slide_type": "slide"
    }
   },
   "source": [
    "# Django Python\n",
    "# 0. Gyakorlat  \n",
    "## Bevezetés - Kurzus ismertető\n",
    "\n",
    "**Oktató:** Bebesi László\n",
    "<br>**Elérhetőség:** bebesilaci{at}gmail.com\n",
    "<br>**Kurzus:** Web-fejlesztés 4. (Python alapon)\n"
   ]
  },
  {
   "cell_type": "markdown",
   "id": "fd677ceb",
   "metadata": {
    "slideshow": {
     "slide_type": "slide"
    }
   },
   "source": [
    "# A kurzusról\n",
    "<p> \n",
    "Napjainkban az egyik legnépszerűbb és legelterjedtebb programozási nyelv a Python, annak sokrétűsége miatt. A nyelv alapjaival már megismerkedtünk a Programozási nyelvek Python tárgy keretében, most a webes alkalmazások készítésére fogunk fókuszálni a Django keretrendszer felhasználásával.\n",
    "<br><a href=\"https://people.inf.elte.hu/hbv/fszwebpython/index\" target=\"_blank\" rel=\"noopener noreferrer\">Tantárgy honlapja</a>\n",
    "</p>\n",
    "\n",
    "<p> \n",
    "Előadás: Hétfő 9:00 - Déli Tömb 2-502 \n",
    "<br>Gyakorlat: Csütörtökön 8:15-kor - Déli Tömb 2-202\n",
    "</p>"
   ]
  },
  {
   "cell_type": "markdown",
   "id": "1550d617",
   "metadata": {
    "slideshow": {
     "slide_type": "slide"
    }
   },
   "source": [
    "# Értékelés összefoglaló\n",
    "\n",
    "## 🧪 Tesztek (előadáson)\n",
    "\n",
    "- 2 db tesztdolgozat, előadás idejében\n",
    "- 20–20 pont, minimum 40% teljesítmény\n",
    "- A ZH pontszám felszorzandó (15 kérdés): `× (20 / 15)`\n",
    "\n",
    "---\n",
    "\n",
    "## 📝 Beadandók (gyakorlat)\n",
    "\n",
    "- 2 beadandó feladat\n",
    "- Gyakorlatvezető értékeli:  \n",
    "  ✅ Elfogadva • 🔄 Javítás • ❌ Megtagadva\n",
    "- 0–30 pont, minimum 12 pont"
   ]
  },
  {
   "cell_type": "markdown",
   "id": "8322c974",
   "metadata": {
    "slideshow": {
     "slide_type": "slide"
    }
   },
   "source": [
    "# Beadandók részletei és szorgalmik\n",
    "\n",
    "## 🧩 Részletek\n",
    "\n",
    "- Javítási lehetőség: **2 héten belül**\n",
    "- Feladatok egymásra épülnek (a második beadandóban az első beadandóra írt kódot kell tovább fejleszteni)\n",
    "- Alapműködés: **elégséges**\n",
    "- Kiírt plusz jellemzők/feladatok: **további pontok (max 30)**\n",
    "\n",
    "---\n",
    "\n",
    "## 💡 Szorgalmi lehetőségek\n",
    "\n",
    "- Kisebb, opcionális feladatok (nem feltétlen csak Django)\n",
    "- Előadás vagy gyakorlat anyagához kapcsolódva\n",
    "- Pluszpontokat adhatnak \n",
    "  ➤ max. **+10 pont**"
   ]
  },
  {
   "cell_type": "markdown",
   "id": "1243c633",
   "metadata": {
    "slideshow": {
     "slide_type": "slide"
    }
   },
   "source": [
    "<h2 align=\"center\">Értékelési rendszer</h2>\n",
    "\n",
    "| Pontszám (%) | Érdemjegy   |\n",
    "|--------------|-------------|\n",
    "| 0–40%        | Elégtelen   |\n",
    "| 40–55%       | Elégséges   |\n",
    "| 55–70%       | Közepes     |\n",
    "| 70–80%       | Jó          |\n",
    "| 80–100%      | Jeles       |"
   ]
  },
  {
   "cell_type": "markdown",
   "id": "4ee6ced6",
   "metadata": {},
   "source": [
    "<h2 align=\"center\">Hasznos linkek</h2>\n",
    "\n",
    "<br><a href=\"https://tango-with-django.readthedocs.io/en/latest/\" target=\"_blank\" rel=\"noopener noreferrer\">How To Tango With Django</a>\n",
    "\n",
    "<br><a href=\"https://github.com/bebesi33/django_2025_fall/tree/main\" target=\"_blank\" rel=\"noopener noreferrer\">GitHub repository - django_2025_fall</a>"
   ]
  },
  {
   "cell_type": "markdown",
   "id": "454064a3",
   "metadata": {},
   "source": []
  }
 ],
 "metadata": {
  "kernelspec": {
   "display_name": "Python 3 (ipykernel)",
   "language": "python",
   "name": "python3"
  }
 },
 "nbformat": 4,
 "nbformat_minor": 5
}
