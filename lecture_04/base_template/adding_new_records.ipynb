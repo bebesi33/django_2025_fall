{
 "cells": [
  {
   "cell_type": "code",
   "execution_count": 8,
   "id": "1a8e8937",
   "metadata": {},
   "outputs": [],
   "source": [
    "import pandas as pd\n",
    "import os\n",
    "import sqlite3\n",
    "import django\n",
    "from django.apps import apps\n",
    "\n",
    "# Ez csak illusztrációnak, ne így töltsetek adatokat....\n",
    "\n",
    "\n",
    "def setup_django():\n",
    "    \"\"\"\n",
    "    A notebook-nak a Django project gyökerében kell lennie.\n",
    "    a Django project gyökeréből is kell indítanod az ipython notebook-ot.\n",
    "    Ez a függvény beállítja a Django környezetet.\n",
    "    \"\"\"\n",
    "    try:\n",
    "        if not apps.ready:\n",
    "            os.environ.setdefault(\n",
    "                \"DJANGO_SETTINGS_MODULE\", \"base_template.settings\"\n",
    "            )  # beállítjuk h. melyik a settings file\n",
    "            os.environ[\"DJANGO_ALLOW_ASYNC_UNSAFE\"] = \"true\"\n",
    "            # Django biztonsági okból tiltja az async használatot bizonyos környezetekben, kivéve ha ezt engedélyezed.\n",
    "            # Ha pl. notebookból, scriptből vagy Jupyterből hívsz be modelleket vagy ORM-et, akkor ez kell, különben hibát dob.\n",
    "            django.setup()  # Ez a függvény elindítja a Django keretrendszert\n",
    "            print(\"✅ Django environment successfully set up.\")\n",
    "        else:\n",
    "            print(\"ℹ️ Django environment already set up.\")\n",
    "    except Exception as e:\n",
    "        print(f\"❌ Error during Django setup: {e}\")"
   ]
  },
  {
   "cell_type": "code",
   "execution_count": 9,
   "id": "f333011a",
   "metadata": {},
   "outputs": [
    {
     "name": "stdout",
     "output_type": "stream",
     "text": [
      "ℹ️ Django environment already set up.\n"
     ]
    }
   ],
   "source": [
    "# Hívjuk meg és akkor ezután lehet nézegetni az ORM modelleket:\n",
    "setup_django()"
   ]
  },
  {
   "cell_type": "code",
   "execution_count": 10,
   "id": "d46b2054",
   "metadata": {},
   "outputs": [],
   "source": [
    "from main.models import Friend\n",
    "import pandas as pd"
   ]
  },
  {
   "cell_type": "code",
   "execution_count": 11,
   "id": "968602fe",
   "metadata": {},
   "outputs": [
    {
     "name": "stdout",
     "output_type": "stream",
     "text": [
      "Ennek integrity error-t kell adnia: UNIQUE constraint failed: main_friend.name, main_friend.phone\n"
     ]
    },
    {
     "name": "stderr",
     "output_type": "stream",
     "text": [
      "D:\\programming\\WebProg2025Fall\\webprogenv\\Lib\\site-packages\\django\\db\\models\\fields\\__init__.py:1671: RuntimeWarning: DateTimeField Friend.created_at received a naive datetime (2025-10-13 19:22:35.093246) while time zone support is active.\n",
      "  warnings.warn(\n",
      "D:\\programming\\WebProg2025Fall\\webprogenv\\Lib\\site-packages\\django\\db\\models\\fields\\__init__.py:1671: RuntimeWarning: DateTimeField Friend.created_at received a naive datetime (2025-10-13 19:22:35.102107) while time zone support is active.\n",
      "  warnings.warn(\n",
      "D:\\programming\\WebProg2025Fall\\webprogenv\\Lib\\site-packages\\django\\db\\models\\fields\\__init__.py:1671: RuntimeWarning: DateTimeField Friend.created_at received a naive datetime (2025-10-13 19:22:35.106668) while time zone support is active.\n",
      "  warnings.warn(\n",
      "D:\\programming\\WebProg2025Fall\\webprogenv\\Lib\\site-packages\\django\\db\\models\\fields\\__init__.py:1671: RuntimeWarning: DateTimeField Friend.created_at received a naive datetime (2025-10-13 19:22:35.107684) while time zone support is active.\n",
      "  warnings.warn(\n"
     ]
    }
   ],
   "source": [
    "# Új rekord hozzáadás:\n",
    "f1 = Friend(name=\"Kiss János\", phone=\"+36301234567\")\n",
    "f1.save()\n",
    "\n",
    "f1 = Friend(name=\"Zoli\", phone=\"+421421421\")\n",
    "f1.save()\n",
    "\n",
    "try:\n",
    "    f1 = Friend(name=\"Zoli\", phone=\"+421421421\")\n",
    "    f1.save()\n",
    "except Exception as e:\n",
    "    print(f\"Ennek integrity error-t kell adnia: {e}\")\n",
    "\n",
    "f1 = Friend(name=\"Peti\", phone=\"+42176576576\")\n",
    "f1.save()"
   ]
  },
  {
   "cell_type": "code",
   "execution_count": 17,
   "id": "9eea078c",
   "metadata": {},
   "outputs": [
    {
     "name": "stdout",
     "output_type": "stream",
     "text": [
      "<QuerySet [<Friend: Zoli>, <Friend: Peti>, <Friend: Kiss János>]>\n"
     ]
    },
    {
     "data": {
      "text/html": [
       "<div>\n",
       "<style scoped>\n",
       "    .dataframe tbody tr th:only-of-type {\n",
       "        vertical-align: middle;\n",
       "    }\n",
       "\n",
       "    .dataframe tbody tr th {\n",
       "        vertical-align: top;\n",
       "    }\n",
       "\n",
       "    .dataframe thead th {\n",
       "        text-align: right;\n",
       "    }\n",
       "</style>\n",
       "<table border=\"1\" class=\"dataframe\">\n",
       "  <thead>\n",
       "    <tr style=\"text-align: right;\">\n",
       "      <th></th>\n",
       "      <th>0</th>\n",
       "    </tr>\n",
       "  </thead>\n",
       "  <tbody>\n",
       "    <tr>\n",
       "      <th>0</th>\n",
       "      <td>Zoli</td>\n",
       "    </tr>\n",
       "    <tr>\n",
       "      <th>1</th>\n",
       "      <td>Peti</td>\n",
       "    </tr>\n",
       "    <tr>\n",
       "      <th>2</th>\n",
       "      <td>Kiss János</td>\n",
       "    </tr>\n",
       "  </tbody>\n",
       "</table>\n",
       "</div>"
      ],
      "text/plain": [
       "            0\n",
       "0        Zoli\n",
       "1        Peti\n",
       "2  Kiss János"
      ]
     },
     "metadata": {},
     "output_type": "display_data"
    }
   ],
   "source": [
    "# Egy filterezés példa:\n",
    "friends_named_zoli = Friend.objects.all()\n",
    "print(friends_named_zoli)\n",
    "display(pd.DataFrame(list(friends_named_zoli)))"
   ]
  },
  {
   "cell_type": "code",
   "execution_count": 18,
   "id": "99132493",
   "metadata": {},
   "outputs": [
    {
     "name": "stdout",
     "output_type": "stream",
     "text": [
      "<QuerySet [{'id': 7, 'created_at': datetime.datetime(2025, 10, 13, 19, 22, 35, 102107, tzinfo=datetime.timezone.utc), 'version_number': 1, 'name': 'Zoli', 'phone': '+421421421'}]>\n"
     ]
    },
    {
     "data": {
      "text/html": [
       "<div>\n",
       "<style scoped>\n",
       "    .dataframe tbody tr th:only-of-type {\n",
       "        vertical-align: middle;\n",
       "    }\n",
       "\n",
       "    .dataframe tbody tr th {\n",
       "        vertical-align: top;\n",
       "    }\n",
       "\n",
       "    .dataframe thead th {\n",
       "        text-align: right;\n",
       "    }\n",
       "</style>\n",
       "<table border=\"1\" class=\"dataframe\">\n",
       "  <thead>\n",
       "    <tr style=\"text-align: right;\">\n",
       "      <th></th>\n",
       "      <th>id</th>\n",
       "      <th>created_at</th>\n",
       "      <th>version_number</th>\n",
       "      <th>name</th>\n",
       "      <th>phone</th>\n",
       "    </tr>\n",
       "  </thead>\n",
       "  <tbody>\n",
       "    <tr>\n",
       "      <th>0</th>\n",
       "      <td>7</td>\n",
       "      <td>2025-10-13 19:22:35.102107+00:00</td>\n",
       "      <td>1</td>\n",
       "      <td>Zoli</td>\n",
       "      <td>+421421421</td>\n",
       "    </tr>\n",
       "  </tbody>\n",
       "</table>\n",
       "</div>"
      ],
      "text/plain": [
       "   id                       created_at  version_number  name       phone\n",
       "0   7 2025-10-13 19:22:35.102107+00:00               1  Zoli  +421421421"
      ]
     },
     "metadata": {},
     "output_type": "display_data"
    }
   ],
   "source": [
    "# Egy filterezés példa:\n",
    "friends_named_zoli = Friend.objects.filter(name=\"Zoli\").values()\n",
    "print(friends_named_zoli)\n",
    "display(pd.DataFrame(list(friends_named_zoli)))"
   ]
  },
  {
   "cell_type": "code",
   "execution_count": 14,
   "id": "8f3e6880",
   "metadata": {},
   "outputs": [
    {
     "data": {
      "text/html": [
       "<div>\n",
       "<style scoped>\n",
       "    .dataframe tbody tr th:only-of-type {\n",
       "        vertical-align: middle;\n",
       "    }\n",
       "\n",
       "    .dataframe tbody tr th {\n",
       "        vertical-align: top;\n",
       "    }\n",
       "\n",
       "    .dataframe thead th {\n",
       "        text-align: right;\n",
       "    }\n",
       "</style>\n",
       "<table border=\"1\" class=\"dataframe\">\n",
       "  <thead>\n",
       "    <tr style=\"text-align: right;\">\n",
       "      <th></th>\n",
       "      <th>name</th>\n",
       "      <th>phone</th>\n",
       "    </tr>\n",
       "  </thead>\n",
       "  <tbody>\n",
       "    <tr>\n",
       "      <th>0</th>\n",
       "      <td>Zoli</td>\n",
       "      <td>+421421421</td>\n",
       "    </tr>\n",
       "    <tr>\n",
       "      <th>1</th>\n",
       "      <td>Peti</td>\n",
       "      <td>+42176576576</td>\n",
       "    </tr>\n",
       "  </tbody>\n",
       "</table>\n",
       "</div>"
      ],
      "text/plain": [
       "   name         phone\n",
       "0  Zoli    +421421421\n",
       "1  Peti  +42176576576"
      ]
     },
     "metadata": {},
     "output_type": "display_data"
    }
   ],
   "source": [
    "friends = Friend.objects.filter(name__in=[\"Zoli\", \"Peti\"]).values(\"name\", \"phone\")\n",
    "# name__in -> where name in (...)\n",
    "# values('name', 'phone') -> select name, phone\n",
    "# __lt, __lte, __gt, __gte hasonlóan működik mint az __in operator\n",
    "# __contains -> like %...%\n",
    "# __icontains -> like %...% case insensitive\n",
    "# __startswith -> like ...%\n",
    "# __endswith -> like %...\n",
    "display(pd.DataFrame(list(friends)))"
   ]
  },
  {
   "cell_type": "code",
   "execution_count": 15,
   "id": "b0bf3ec0",
   "metadata": {},
   "outputs": [
    {
     "data": {
      "text/html": [
       "<div>\n",
       "<style scoped>\n",
       "    .dataframe tbody tr th:only-of-type {\n",
       "        vertical-align: middle;\n",
       "    }\n",
       "\n",
       "    .dataframe tbody tr th {\n",
       "        vertical-align: top;\n",
       "    }\n",
       "\n",
       "    .dataframe thead th {\n",
       "        text-align: right;\n",
       "    }\n",
       "</style>\n",
       "<table border=\"1\" class=\"dataframe\">\n",
       "  <thead>\n",
       "    <tr style=\"text-align: right;\">\n",
       "      <th></th>\n",
       "      <th>id</th>\n",
       "      <th>created_at</th>\n",
       "      <th>version_number</th>\n",
       "      <th>name</th>\n",
       "      <th>phone</th>\n",
       "    </tr>\n",
       "  </thead>\n",
       "  <tbody>\n",
       "    <tr>\n",
       "      <th>0</th>\n",
       "      <td>7</td>\n",
       "      <td>2025-10-13 19:22:35.102107+00:00</td>\n",
       "      <td>1</td>\n",
       "      <td>Zoli</td>\n",
       "      <td>+421421421</td>\n",
       "    </tr>\n",
       "  </tbody>\n",
       "</table>\n",
       "</div>"
      ],
      "text/plain": [
       "   id                       created_at  version_number  name       phone\n",
       "0   7 2025-10-13 19:22:35.102107+00:00               1  Zoli  +421421421"
      ]
     },
     "metadata": {},
     "output_type": "display_data"
    }
   ],
   "source": [
    "# Példa rekord törlésre:\n",
    "Friend.objects.filter(name=\"Kiss János\").delete()\n",
    "\n",
    "friends_named_zoli = Friend.objects.filter(name=\"Zoli\").values()\n",
    "display(pd.DataFrame(list(friends_named_zoli)))"
   ]
  },
  {
   "cell_type": "code",
   "execution_count": null,
   "id": "e058b6d4",
   "metadata": {},
   "outputs": [],
   "source": []
  }
 ],
 "metadata": {
  "kernelspec": {
   "display_name": "Python 3 (ipykernel)",
   "language": "python",
   "name": "python3"
  },
  "language_info": {
   "codemirror_mode": {
    "name": "ipython",
    "version": 3
   },
   "file_extension": ".py",
   "mimetype": "text/x-python",
   "name": "python",
   "nbconvert_exporter": "python",
   "pygments_lexer": "ipython3",
   "version": "3.13.3"
  }
 },
 "nbformat": 4,
 "nbformat_minor": 5
}
